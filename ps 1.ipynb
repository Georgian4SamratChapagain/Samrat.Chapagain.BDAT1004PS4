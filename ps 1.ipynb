{
 "cells": [
  {
   "cell_type": "markdown",
   "id": "fda932d5",
   "metadata": {},
   "source": [
    "<h2>Problem Set 1</h2>"
   ]
  },
  {
   "cell_type": "markdown",
   "id": "9ad7ca28",
   "metadata": {},
   "source": [
    "<h3>Question 1</h3>"
   ]
  },
  {
   "cell_type": "markdown",
   "id": "d25aac17",
   "metadata": {},
   "source": [
    "What data type is each of the following (evaluate where necessary)?"
   ]
  },
  {
   "cell_type": "code",
   "execution_count": 19,
   "id": "1a018ca7",
   "metadata": {},
   "outputs": [
    {
     "name": "stdout",
     "output_type": "stream",
     "text": [
      "<class 'int'>\n"
     ]
    }
   ],
   "source": [
    "a=5\n",
    "print(type(a))"
   ]
  },
  {
   "cell_type": "code",
   "execution_count": 6,
   "id": "aa58ba6f",
   "metadata": {},
   "outputs": [
    {
     "name": "stdout",
     "output_type": "stream",
     "text": [
      "<class 'float'>\n"
     ]
    }
   ],
   "source": [
    "b=5.0\n",
    "print(type(b))\n"
   ]
  },
  {
   "cell_type": "code",
   "execution_count": 7,
   "id": "b08d3e67",
   "metadata": {},
   "outputs": [
    {
     "name": "stdout",
     "output_type": "stream",
     "text": [
      "<class 'float'>\n"
     ]
    }
   ],
   "source": [
    "c=5>1\n",
    "print(type(b))"
   ]
  },
  {
   "cell_type": "code",
   "execution_count": 8,
   "id": "9338af77",
   "metadata": {},
   "outputs": [
    {
     "name": "stdout",
     "output_type": "stream",
     "text": [
      "<class 'str'>\n"
     ]
    }
   ],
   "source": [
    "d='5'\n",
    "print(type(d))"
   ]
  },
  {
   "cell_type": "code",
   "execution_count": 9,
   "id": "9f412477",
   "metadata": {},
   "outputs": [
    {
     "name": "stdout",
     "output_type": "stream",
     "text": [
      "<class 'int'>\n"
     ]
    }
   ],
   "source": [
    "e=5*2\n",
    "print(type(e))"
   ]
  },
  {
   "cell_type": "code",
   "execution_count": 10,
   "id": "dbae08fd",
   "metadata": {},
   "outputs": [
    {
     "name": "stdout",
     "output_type": "stream",
     "text": [
      "<class 'str'>\n"
     ]
    }
   ],
   "source": [
    "f='5'*2\n",
    "print(type(f))"
   ]
  },
  {
   "cell_type": "code",
   "execution_count": 11,
   "id": "dc0cc01c",
   "metadata": {},
   "outputs": [
    {
     "name": "stdout",
     "output_type": "stream",
     "text": [
      "<class 'str'>\n"
     ]
    }
   ],
   "source": [
    "g='5'+'2'\n",
    "print(type(g))"
   ]
  },
  {
   "cell_type": "code",
   "execution_count": 12,
   "id": "207fcc95",
   "metadata": {},
   "outputs": [
    {
     "name": "stdout",
     "output_type": "stream",
     "text": [
      "<class 'float'>\n"
     ]
    }
   ],
   "source": [
    "h=5/2\n",
    "print(type(h))"
   ]
  },
  {
   "cell_type": "code",
   "execution_count": 17,
   "id": "0d5f0050",
   "metadata": {},
   "outputs": [
    {
     "name": "stdout",
     "output_type": "stream",
     "text": [
      "<class 'int'>\n"
     ]
    }
   ],
   "source": [
    "i=5%2\n",
    "print(type(i))"
   ]
  },
  {
   "cell_type": "code",
   "execution_count": 14,
   "id": "7e45a029",
   "metadata": {},
   "outputs": [
    {
     "name": "stdout",
     "output_type": "stream",
     "text": [
      "<class 'set'>\n"
     ]
    }
   ],
   "source": [
    "j={5,2,1}\n",
    "print(type(j))"
   ]
  },
  {
   "cell_type": "code",
   "execution_count": 15,
   "id": "b45f6d7e",
   "metadata": {},
   "outputs": [
    {
     "name": "stdout",
     "output_type": "stream",
     "text": [
      "<class 'bool'>\n"
     ]
    }
   ],
   "source": [
    "k=5==3\n",
    "print(type(k))"
   ]
  },
  {
   "cell_type": "code",
   "execution_count": 18,
   "id": "5d6cbb95",
   "metadata": {},
   "outputs": [
    {
     "name": "stdout",
     "output_type": "stream",
     "text": [
      "<class 'float'>\n"
     ]
    }
   ],
   "source": [
    "pi=3.14\n",
    "print(type(pi))"
   ]
  },
  {
   "cell_type": "markdown",
   "id": "c790a695",
   "metadata": {},
   "source": [
    "<h3>Question 2</h3>"
   ]
  },
  {
   "cell_type": "markdown",
   "id": "6334a3c9",
   "metadata": {},
   "source": [
    "<h4>A</h4> How many letters are there in 'Supercalifragilisticexpialidocious'?"
   ]
  },
  {
   "cell_type": "code",
   "execution_count": 3,
   "id": "e529c890",
   "metadata": {},
   "outputs": [],
   "source": [
    "a='Supercalifragilisticexpialidocious'"
   ]
  },
  {
   "cell_type": "code",
   "execution_count": 4,
   "id": "be0a6cee",
   "metadata": {},
   "outputs": [
    {
     "name": "stdout",
     "output_type": "stream",
     "text": [
      "34\n"
     ]
    }
   ],
   "source": [
    "print(len(a))"
   ]
  },
  {
   "cell_type": "markdown",
   "id": "e7b6b904",
   "metadata": {},
   "source": [
    "<h4>B</h4> Does 'Supercalifragilisticexpialidocious' contain 'ice' as a substring? "
   ]
  },
  {
   "cell_type": "code",
   "execution_count": 44,
   "id": "3303c0c7",
   "metadata": {},
   "outputs": [
    {
     "name": "stdout",
     "output_type": "stream",
     "text": [
      "True\n"
     ]
    }
   ],
   "source": [
    "b=\"Supercalifragilisticexpialidocious\"\n",
    "print('ice'in b)"
   ]
  },
  {
   "cell_type": "markdown",
   "id": "b61bfbda",
   "metadata": {},
   "source": [
    "<h4>C</h4> Which of the following words is the longest: Supercalifragilisticexpialidocious, Honorificabilitudinitatibus, or\n",
    "Bababadalgharaghtakamminarronnkonn? "
   ]
  },
  {
   "cell_type": "code",
   "execution_count": 45,
   "id": "b790aff7",
   "metadata": {},
   "outputs": [
    {
     "name": "stdout",
     "output_type": "stream",
     "text": [
      "Supercalifragilisticexpialidocious\n"
     ]
    }
   ],
   "source": [
    "c=[\"Supercalifragilisticexpialidocious\",\"Honorificabilitudinitatibus\",\"Bababadalgharaghtakamminarronnkonn\"]\n",
    "print(max(c))"
   ]
  },
  {
   "cell_type": "markdown",
   "id": "89d58143",
   "metadata": {},
   "source": [
    "<h4>D</h4> Which composer comes first in the dictionary: 'Berlioz', 'Borodin', 'Brian','Bartok', 'Bellini', 'Buxtehude', 'Bernstein'. Which one comes last?"
   ]
  },
  {
   "cell_type": "code",
   "execution_count": 39,
   "id": "af6c7587",
   "metadata": {},
   "outputs": [
    {
     "name": "stdout",
     "output_type": "stream",
     "text": [
      "['Bartok', 'Bellini', 'Berlioz', 'Bernstein', 'Borodin', 'Brian', 'Buxtehude']\n"
     ]
    }
   ],
   "source": [
    "d=[ 'Berlioz', 'Borodin', 'Brian','Bartok', 'Bellini', 'Buxtehude', 'Bernstein']\n",
    "d.sort()\n",
    "print(d)"
   ]
  },
  {
   "cell_type": "code",
   "execution_count": 40,
   "id": "fcb5dd1c",
   "metadata": {},
   "outputs": [
    {
     "name": "stdout",
     "output_type": "stream",
     "text": [
      "Bartok Buxtehude\n"
     ]
    }
   ],
   "source": [
    "print(min(d),max(d))"
   ]
  },
  {
   "cell_type": "markdown",
   "id": "157a3c22",
   "metadata": {},
   "source": [
    "The minimum and maximum value in the list are string \"Bartok\"  and \"Buxtehude\" respectively."
   ]
  },
  {
   "cell_type": "markdown",
   "id": "de207233",
   "metadata": {},
   "source": [
    "<h3>Question 3</h3>"
   ]
  },
  {
   "cell_type": "markdown",
   "id": "7cd83a1f",
   "metadata": {},
   "source": [
    "Implement function triangleArea(a,b,c) that takes as input the lengths of the 3 sides of a triangle and returns the area of the triangle. By Heron's formula, the area of a triangle with side lengths a, b, and c is sqrt.s(s - a)(s -b)(s -c), where\n",
    "s = (a+b+c)/2. "
   ]
  },
  {
   "cell_type": "code",
   "execution_count": 65,
   "id": "b03d2ba6",
   "metadata": {},
   "outputs": [],
   "source": [
    "import math\n",
    "def triangleArea(a,b,c):\n",
    "    s=(a+b+c)/2\n",
    "    result=math.sqrt(s*(s-a)*(s-b)*(s-c))\n",
    "    return result\n"
   ]
  },
  {
   "cell_type": "code",
   "execution_count": 67,
   "id": "dbc7c0a3",
   "metadata": {},
   "outputs": [
    {
     "data": {
      "text/plain": [
       "1.7320508075688772"
      ]
     },
     "execution_count": 67,
     "metadata": {},
     "output_type": "execute_result"
    }
   ],
   "source": [
    "triangleArea(2,2,2)"
   ]
  },
  {
   "cell_type": "markdown",
   "id": "24de81ed",
   "metadata": {},
   "source": [
    "<h3> Question 4</h3>"
   ]
  },
  {
   "cell_type": "markdown",
   "id": "24b6f793",
   "metadata": {},
   "source": [
    "Write a program in python to separate odd and even integers in separate arrays. Go\n",
    "to the editor Test Data :   Input the number of elements to be stored in the array :5  Input 5 elements in the array :"
   ]
  },
  {
   "cell_type": "code",
   "execution_count": 1,
   "id": "79dc8775",
   "metadata": {},
   "outputs": [
    {
     "name": "stdout",
     "output_type": "stream",
     "text": [
      "Input the number of elements to be stored in the array 3\n",
      "Enter the elements to be stored in the array:\n",
      "45\n",
      "34\n",
      "56\n",
      "Even numbers: [34, 56]\n",
      "Odd numbers: [45]\n"
     ]
    }
   ],
   "source": [
    "#Reference: https://www.tutorialspoint.com/python-program-to-split-the-even-and-odd-elements-into-two-different-lists\n",
    "def odd_even(itemList):\n",
    "    even_list = []\n",
    "    odd_list = []\n",
    "    for i in itemList:\n",
    "        if i % 2 == 0:\n",
    "            even_list.append(i)\n",
    "        else:\n",
    "            odd_list.append(i)\n",
    "    return even_list, odd_list\n",
    "\n",
    "itemList = []\n",
    "n = int(input(\"Input the number of elements to be stored in the array \"))\n",
    "print(\"Enter the elements to be stored in the array:\")\n",
    "for i in range(n):\n",
    "    k = int(input(\"\"))\n",
    "    itemList.append(k)\n",
    "\n",
    "even_nums, odd_nums = odd_even(itemList)\n",
    "\n",
    "print(\"Even numbers:\", even_nums)\n",
    "print(\"Odd numbers:\", odd_nums)"
   ]
  },
  {
   "cell_type": "markdown",
   "id": "1b23afc2",
   "metadata": {},
   "source": [
    "<h3>Question 5</h3>"
   ]
  },
  {
   "cell_type": "markdown",
   "id": "b73c321d",
   "metadata": {},
   "source": [
    "<h4>A</h4> Write a function inside(x,y,x1,y1,x2,y2) that returns True or False depending on whether the point (x,y) lies in the rectangle with lower left corner (x1,y1) and upper right corner (x2,y2)."
   ]
  },
  {
   "cell_type": "code",
   "execution_count": 43,
   "id": "09874855",
   "metadata": {},
   "outputs": [
    {
     "name": "stdout",
     "output_type": "stream",
     "text": [
      "True\n"
     ]
    }
   ],
   "source": [
    "def inside(x,y,x1,y1,x2,y2):\n",
    "    if (x1<=x<=x2) and (y1<=y<=y2):\n",
    "        return True\n",
    "    else:\n",
    "        return False\n",
    "print(inside(1,1,0,0,2,3))"
   ]
  },
  {
   "cell_type": "markdown",
   "id": "7ce8e55e",
   "metadata": {},
   "source": [
    "<h4>B</h4> Use function inside() from part a. to write an expression that tests whether the point (1,1) lies in both of the following rectangles: one with lower left corner (0.3, 0.5) and upper right corner (1.1, 0.7) and the other with lower left corner (0.5, 0.2) and upper right corner (1.1, 2). "
   ]
  },
  {
   "cell_type": "code",
   "execution_count": 2,
   "id": "9c85fdd4",
   "metadata": {},
   "outputs": [
    {
     "name": "stdout",
     "output_type": "stream",
     "text": [
      "The point (1, 1) does not lie within both rectangles.\n"
     ]
    }
   ],
   "source": [
    "def inside(x, y, x1, y1, x2, y2):\n",
    "    return x1 <= x <= x2 and y1 <= y <= y2\n",
    "\n",
    "rect1_x1, rect1_y1 = 0.3, 0.5\n",
    "rect1_x2, rect1_y2 = 1.1, 0.7\n",
    "\n",
    "rect2_x1, rect2_y1 = 0.5, 0.2\n",
    "rect2_x2, rect2_y2 = 1.1, 2\n",
    "\n",
    "x = 1\n",
    "y = 1\n",
    "\n",
    "rectangle1 = inside(x, y, rect1_x1, rect1_y1, rect1_x2, rect1_y2)\n",
    "rectangle2 = inside(x, y, rect2_x1, rect2_y1, rect2_x2, rect2_y2)\n",
    "\n",
    "if rectangle1 and rectangle2:\n",
    "    print(\"The point (1, 1) lies in both of the following rectangles.\")\n",
    "else:\n",
    "    print(\"The point (1, 1) does not lie within both rectangles.\")"
   ]
  },
  {
   "cell_type": "markdown",
   "id": "765964c6",
   "metadata": {},
   "source": [
    "<h3>Question 6</h3>"
   ]
  },
  {
   "cell_type": "markdown",
   "id": "834bbb52",
   "metadata": {},
   "source": [
    "You can turn a word into pig-Latin using the following two rules (simplified):\n",
    "• If the word starts with a consonant, move that letter to the end and append\n",
    "'ay'. For example, 'happy' becomes 'appyhay' and 'pencil' becomes 'encilpay'.\n",
    "• If the word starts with a vowel, simply append 'way' to the end of the word.\n",
    "For example, 'enter' becomes 'enterway' and 'other' becomes 'otherway' . For our purposes, there are 5 vowels: a, e, i, o, u (so we count y as a consonant).\n",
    "Write a function pig() that takes a word (i.e., a string) as input and returns its pigLatin form. Your function should still work if the input word contains upper case\n",
    "characters. Your output should always be lower case however. "
   ]
  },
  {
   "cell_type": "code",
   "execution_count": 5,
   "id": "eebdbf4d",
   "metadata": {},
   "outputs": [],
   "source": [
    "def pig(text):\n",
    "    vowels = ['a','e','i','o','u']\n",
    "    text = text.lower()\n",
    "    if text[0] in vowels:\n",
    "        return text+'way'\n",
    "    return text[1:]+text[0]+'ay'"
   ]
  },
  {
   "cell_type": "code",
   "execution_count": 6,
   "id": "362ae48e",
   "metadata": {},
   "outputs": [
    {
     "name": "stdout",
     "output_type": "stream",
     "text": [
      "appyhay\n",
      "enterway\n"
     ]
    }
   ],
   "source": [
    "print(pig('happy'))\n",
    "print(pig('Enter'))\n"
   ]
  },
  {
   "cell_type": "markdown",
   "id": "5d0d04f8",
   "metadata": {},
   "source": [
    "<h3>Question 7</h3>"
   ]
  },
  {
   "cell_type": "markdown",
   "id": "33a4182d",
   "metadata": {},
   "source": [
    "File bloodtype1.txt records blood-types of patients (A, B, AB, O or OO) at a clinic. Write a function bldcount() that reads the file with name name and reports (i.e., prints) how many patients there are in each bloodtype.\n"
   ]
  },
  {
   "cell_type": "code",
   "execution_count": 66,
   "id": "8e9c3c72",
   "metadata": {},
   "outputs": [
    {
     "name": "stdout",
     "output_type": "stream",
     "text": [
      "There are 15 patient of blood type: A\n",
      "There are 1 patient of blood type: B\n",
      "There are 13 patient of blood type: AB\n",
      "There are 15 patient of blood type: O\n",
      "There are 0 patient of blood type: OO\n"
     ]
    }
   ],
   "source": [
    "def bldcount():\n",
    "    blood_counts = {'A': 0, 'B': 0, 'AB': 0, 'O': 0, 'OO': 0}\n",
    "\n",
    "    with open(\"bloodtype1.txt\", 'r') as file:\n",
    "        blood_types = file.read().split()\n",
    "        for blood_type in blood_types:\n",
    "            if blood_type in blood_counts:\n",
    "                blood_counts[blood_type] += 1\n",
    "\n",
    "    for blood_type, count in blood_counts.items():\n",
    "         print(f\"There are {count} patient of blood type: {blood_type}\")\n",
    "\n",
    "# Call the function\n",
    "bldcount()"
   ]
  },
  {
   "cell_type": "markdown",
   "id": "35b342fb",
   "metadata": {},
   "source": [
    "<h3>Question 8</h3>"
   ]
  },
  {
   "cell_type": "markdown",
   "id": "2b56b3d4",
   "metadata": {},
   "source": [
    "Write a function curconv() that takes as input:\n",
    "1. a currency represented using a string (e.g., 'JPY' for the Japanese Yen or 'EUR' for the Euro)\n",
    "2. an amount\n",
    "\n",
    "and then converts and returns the amount in US dollars."
   ]
  },
  {
   "cell_type": "code",
   "execution_count": 68,
   "id": "31ff7fdc",
   "metadata": {},
   "outputs": [
    {
     "name": "stdout",
     "output_type": "stream",
     "text": [
      "Amount in USD: 12.41401\n"
     ]
    }
   ],
   "source": [
    "def curconv(currency, amount):\n",
    "    with open(\"currencies.txt\", 'r') as file:\n",
    "        for line in file:\n",
    "            parts = line.split()\n",
    "            if parts[0] == currency:\n",
    "                return float(parts[1]) * amount\n",
    "\n",
    "    print(f\"Error: Currency '{currency}' not found.\")\n",
    "\n",
    "result = curconv('JPY', 1000)\n",
    "print(f\"Amount in USD: {result}\")\n"
   ]
  },
  {
   "cell_type": "markdown",
   "id": "7c02d429",
   "metadata": {},
   "source": [
    "<h3>Question 9</h3>"
   ]
  },
  {
   "cell_type": "markdown",
   "id": "7ae8f032",
   "metadata": {},
   "source": [
    "Each of the following will cause an exception (an error). Identify what type of\n",
    "exception each will cause."
   ]
  },
  {
   "cell_type": "markdown",
   "id": "30f8866a",
   "metadata": {},
   "source": [
    "i) Trying to add incompatible variables, as in\n",
    "adding 6 + ‘a’"
   ]
  },
  {
   "cell_type": "markdown",
   "id": "9e9ecc0a",
   "metadata": {},
   "source": [
    "TypeError: Adding an integer and a string causes exception."
   ]
  },
  {
   "cell_type": "markdown",
   "id": "b946bbe2",
   "metadata": {},
   "source": [
    "ii) Referring to the 12th item of a list that has only 10 items\n",
    "\n",
    "IndexError: accesing item at index that doesn't exist in list"
   ]
  },
  {
   "cell_type": "markdown",
   "id": "c8af6799",
   "metadata": {},
   "source": [
    "iii) Using a value that is out of range for a function’s\n",
    "input, such as calling math.sqrt(-1.0)\n",
    "\n",
    "ValueError: Input value not valid for this function"
   ]
  },
  {
   "cell_type": "markdown",
   "id": "233c51a0",
   "metadata": {},
   "source": [
    "iv) Using an undeclared variable, such as print(x) when x has not been defined \n",
    "\n",
    "NameError: Variable not defined or value assigned"
   ]
  },
  {
   "cell_type": "markdown",
   "id": "fb9c7664",
   "metadata": {},
   "source": [
    "v) Trying to open a file that does not exist, such as mistyping the file name or looking in the wrong directory. \n",
    "\n",
    "FileNotFoundError: Can't find file in the specified location"
   ]
  },
  {
   "cell_type": "markdown",
   "id": "a155ada0",
   "metadata": {},
   "source": [
    "<h3>Question 10</h3>\n",
    "\n"
   ]
  },
  {
   "cell_type": "markdown",
   "id": "6a39c8d8",
   "metadata": {},
   "source": [
    "Assume that the string letters is already defined as 'abcdefghijklmnopqrstuvwxyz'. Write a function called frequencies() that takes a string as its only parameter, and returns a list of integers, showing the number of times each character appears in the text. Your function may ignore any characters that are not in letters. "
   ]
  },
  {
   "cell_type": "code",
   "execution_count": 67,
   "id": "13aa41fa",
   "metadata": {},
   "outputs": [
    {
     "name": "stdout",
     "output_type": "stream",
     "text": [
      "[2, 0, 0, 0, 0, 0, 0, 0, 0, 0, 0, 0, 1, 0, 0, 0, 0, 1, 1, 1, 0, 0, 0, 0, 0, 0]\n"
     ]
    }
   ],
   "source": [
    "def frequencies(text):\n",
    "    frequencies_list = [0] * 26 \n",
    "    \n",
    "    for char in text.lower():\n",
    "        if 'a' <= char <= 'z':\n",
    "            frequencies_list[ord(char) - ord('a')] += 1\n",
    "    \n",
    "    return frequencies_list\n",
    "text=\"samrat\"\n",
    "print(frequencies(text))"
   ]
  },
  {
   "cell_type": "code",
   "execution_count": 36,
   "id": "d5a006d6",
   "metadata": {},
   "outputs": [
    {
     "name": "stdout",
     "output_type": "stream",
     "text": [
      "[2, 0, 0, 0, 0, 0, 0, 0, 0, 0, 0, 0, 1, 0, 0, 0, 0, 1, 1, 1, 0, 0, 0, 0, 0, 0]\n"
     ]
    }
   ],
   "source": [
    "text2=\"samrat123\"\n",
    "print(frequencies(text2))"
   ]
  },
  {
   "cell_type": "markdown",
   "id": "81bad8bc",
   "metadata": {},
   "source": [
    "The frequencies() function ignored the non-letter character '123' in text2"
   ]
  },
  {
   "cell_type": "markdown",
   "id": "7b96ec4d",
   "metadata": {},
   "source": [
    "<h3><center>THANK YOU!</center></h3>"
   ]
  }
 ],
 "metadata": {
  "kernelspec": {
   "display_name": "Python 3 (ipykernel)",
   "language": "python",
   "name": "python3"
  },
  "language_info": {
   "codemirror_mode": {
    "name": "ipython",
    "version": 3
   },
   "file_extension": ".py",
   "mimetype": "text/x-python",
   "name": "python",
   "nbconvert_exporter": "python",
   "pygments_lexer": "ipython3",
   "version": "3.10.9"
  }
 },
 "nbformat": 4,
 "nbformat_minor": 5
}
